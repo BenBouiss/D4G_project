{
 "cells": [
  {
   "cell_type": "code",
   "execution_count": 11,
   "metadata": {},
   "outputs": [],
   "source": [
    "import pandas as pd\n",
    "import plotly.express as px\n",
    "import numpy as np "
   ]
  },
  {
   "cell_type": "code",
   "execution_count": 16,
   "metadata": {},
   "outputs": [],
   "source": [
    "import streamlit as st"
   ]
  },
  {
   "cell_type": "code",
   "execution_count": 7,
   "metadata": {},
   "outputs": [],
   "source": [
    "import plotly.io as pio"
   ]
  },
  {
   "cell_type": "code",
   "execution_count": 13,
   "metadata": {},
   "outputs": [],
   "source": [
    "# Load the CSV file\n",
    "file_path = \"random_data_with_normalized_absences.csv\"\n",
    "df = pd.read_csv(file_path)"
   ]
  },
  {
   "cell_type": "code",
   "execution_count": 24,
   "metadata": {},
   "outputs": [
    {
     "name": "stderr",
     "output_type": "stream",
     "text": [
      "2024-11-18 17:54:10.237 Thread 'MainThread': missing ScriptRunContext! This warning can be ignored when running in bare mode.\n",
      "2024-11-18 17:54:10.238 Thread 'MainThread': missing ScriptRunContext! This warning can be ignored when running in bare mode.\n",
      "2024-11-18 17:54:10.240 Thread 'MainThread': missing ScriptRunContext! This warning can be ignored when running in bare mode.\n",
      "2024-11-18 17:54:10.240 Thread 'MainThread': missing ScriptRunContext! This warning can be ignored when running in bare mode.\n",
      "2024-11-18 17:54:10.242 Thread 'MainThread': missing ScriptRunContext! This warning can be ignored when running in bare mode.\n",
      "2024-11-18 17:54:10.243 Thread 'MainThread': missing ScriptRunContext! This warning can be ignored when running in bare mode.\n",
      "2024-11-18 17:54:10.243 Thread 'MainThread': missing ScriptRunContext! This warning can be ignored when running in bare mode.\n",
      "2024-11-18 17:54:10.244 Thread 'MainThread': missing ScriptRunContext! This warning can be ignored when running in bare mode.\n",
      "2024-11-18 17:54:10.245 Thread 'MainThread': missing ScriptRunContext! This warning can be ignored when running in bare mode.\n",
      "2024-11-18 17:54:10.246 Thread 'MainThread': missing ScriptRunContext! This warning can be ignored when running in bare mode.\n",
      "2024-11-18 17:54:10.247 Thread 'MainThread': missing ScriptRunContext! This warning can be ignored when running in bare mode.\n",
      "2024-11-18 17:54:10.248 Thread 'MainThread': missing ScriptRunContext! This warning can be ignored when running in bare mode.\n",
      "2024-11-18 17:54:10.249 Thread 'MainThread': missing ScriptRunContext! This warning can be ignored when running in bare mode.\n",
      "2024-11-18 17:54:10.251 Thread 'MainThread': missing ScriptRunContext! This warning can be ignored when running in bare mode.\n",
      "2024-11-18 17:54:10.254 Thread 'MainThread': missing ScriptRunContext! This warning can be ignored when running in bare mode.\n",
      "2024-11-18 17:54:10.255 Thread 'MainThread': missing ScriptRunContext! This warning can be ignored when running in bare mode.\n",
      "2024-11-18 17:54:10.258 Thread 'MainThread': missing ScriptRunContext! This warning can be ignored when running in bare mode.\n",
      "2024-11-18 17:54:10.260 Thread 'MainThread': missing ScriptRunContext! This warning can be ignored when running in bare mode.\n",
      "2024-11-18 17:54:10.260 Thread 'MainThread': missing ScriptRunContext! This warning can be ignored when running in bare mode.\n",
      "2024-11-18 17:54:10.261 Thread 'MainThread': missing ScriptRunContext! This warning can be ignored when running in bare mode.\n",
      "2024-11-18 17:54:10.263 Thread 'MainThread': missing ScriptRunContext! This warning can be ignored when running in bare mode.\n",
      "2024-11-18 17:54:10.264 Thread 'MainThread': missing ScriptRunContext! This warning can be ignored when running in bare mode.\n",
      "2024-11-18 17:54:10.266 Thread 'MainThread': missing ScriptRunContext! This warning can be ignored when running in bare mode.\n",
      "2024-11-18 17:54:10.267 Thread 'MainThread': missing ScriptRunContext! This warning can be ignored when running in bare mode.\n",
      "2024-11-18 17:54:10.269 Thread 'MainThread': missing ScriptRunContext! This warning can be ignored when running in bare mode.\n",
      "2024-11-18 17:54:10.270 Thread 'MainThread': missing ScriptRunContext! This warning can be ignored when running in bare mode.\n"
     ]
    }
   ],
   "source": [
    "# Sidebar filters\n",
    "st.sidebar.header(\"Filters\")\n",
    "company = st.sidebar.selectbox(\"Select Company\", df['Company'].unique())\n",
    "year = st.sidebar.selectbox(\"Select Year\", df['Year'].unique())\n",
    "age_range = st.sidebar.selectbox(\"Select Age Range\", df['Age Range'].unique())\n",
    "contract_type = st.sidebar.selectbox(\"Select Contract Type\", df['Contract Type'].unique())\n"
   ]
  },
  {
   "cell_type": "code",
   "execution_count": 25,
   "metadata": {},
   "outputs": [],
   "source": [
    "# Filter the data based on selections\n",
    "filtered_df = df[(df['Company'] == company) &\n",
    "                 (df['Year'] == year) &\n",
    "                 (df['Age Range'] == age_range) &\n",
    "                 (df['Contract Type'] == contract_type)]\n"
   ]
  },
  {
   "cell_type": "code",
   "execution_count": 26,
   "metadata": {},
   "outputs": [],
   "source": [
    "# First Graph: Percentage of Men and Women\n",
    "df_melted_1 = filtered_df.melt(id_vars='Category', \n",
    "                               value_vars=['Men', 'Women'], \n",
    "                               var_name='Gender', \n",
    "                               value_name='Percentage')"
   ]
  },
  {
   "cell_type": "code",
   "execution_count": 27,
   "metadata": {},
   "outputs": [],
   "source": [
    "fig1 = px.bar(\n",
    "    df_melted_1,\n",
    "    x='Category',\n",
    "    y='Percentage',\n",
    "    color='Gender',\n",
    "    text='Percentage',\n",
    "    barmode='group',\n",
    "    color_discrete_map={'Men': 'gray', 'Women': 'pink'},\n",
    "    labels={'Category': 'Job Category', 'Percentage': 'Percentage (%)'},\n",
    "    title='Percentage of Men and Women in Each Job Category'\n",
    ")\n"
   ]
  },
  {
   "cell_type": "code",
   "execution_count": 28,
   "metadata": {},
   "outputs": [],
   "source": [
    "\n",
    "fig1.update_traces(texttemplate='%{text:.0f}%', textposition='outside')\n",
    "fig1.update_layout(\n",
    "    yaxis=dict(title='Percentage (%)', range=[0, 100]),\n",
    "    xaxis=dict(title='Job Category'),\n",
    "    legend_title_text='Gender'\n",
    ")\n"
   ]
  },
  {
   "cell_type": "code",
   "execution_count": 22,
   "metadata": {},
   "outputs": [],
   "source": [
    "# Second Graph: Normalized Absences\n",
    "df_melted_2 = filtered_df.melt(id_vars='Category', \n",
    "                               value_vars=['Normalized Men Absence', 'Normalized Women Absence'], \n",
    "                               var_name='Gender', \n",
    "                               value_name='Normalized Absences (Hours)')\n",
    "\n",
    "fig2 = px.bar(\n",
    "    df_melted_2,\n",
    "    x='Category',\n",
    "    y='Normalized Absences (Hours)',\n",
    "    color='Gender',\n",
    "    text='Normalized Absences (Hours)',\n",
    "    barmode='group',\n",
    "    color_discrete_map={'Normalized Men Absence': 'gray', 'Normalized Women Absence': 'pink'},\n",
    "    labels={'Category': 'Job Category', 'Normalized Absences (Hours)': 'Absences per Person (Normalized)'},\n",
    "    title='Normalized Absences per Person by Job Category and Gender'\n",
    ")\n",
    "\n",
    "fig2.update_traces(texttemplate='%{text:.1f}', textposition='outside')\n",
    "fig2.update_layout(\n",
    "    yaxis=dict(title='Absences per Person (Normalized)'),\n",
    "    xaxis=dict(title='Job Category'),\n",
    "    legend_title_text='Gender'\n",
    ")\n"
   ]
  },
  {
   "cell_type": "code",
   "execution_count": 23,
   "metadata": {},
   "outputs": [
    {
     "name": "stderr",
     "output_type": "stream",
     "text": [
      "2024-11-18 17:41:39.999 Thread 'MainThread': missing ScriptRunContext! This warning can be ignored when running in bare mode.\n",
      "2024-11-18 17:41:40.000 Thread 'MainThread': missing ScriptRunContext! This warning can be ignored when running in bare mode.\n",
      "2024-11-18 17:41:40.001 Thread 'MainThread': missing ScriptRunContext! This warning can be ignored when running in bare mode.\n",
      "2024-11-18 17:41:40.002 Thread 'MainThread': missing ScriptRunContext! This warning can be ignored when running in bare mode.\n",
      "2024-11-18 17:41:40.004 Thread 'MainThread': missing ScriptRunContext! This warning can be ignored when running in bare mode.\n",
      "2024-11-18 17:41:40.005 Thread 'MainThread': missing ScriptRunContext! This warning can be ignored when running in bare mode.\n",
      "2024-11-18 17:41:40.006 Thread 'MainThread': missing ScriptRunContext! This warning can be ignored when running in bare mode.\n",
      "2024-11-18 17:41:40.006 Thread 'MainThread': missing ScriptRunContext! This warning can be ignored when running in bare mode.\n",
      "2024-11-18 17:41:40.007 Thread 'MainThread': missing ScriptRunContext! This warning can be ignored when running in bare mode.\n",
      "2024-11-18 17:41:40.008 Thread 'MainThread': missing ScriptRunContext! This warning can be ignored when running in bare mode.\n",
      "2024-11-18 17:41:40.009 Thread 'MainThread': missing ScriptRunContext! This warning can be ignored when running in bare mode.\n",
      "2024-11-18 17:41:40.010 Thread 'MainThread': missing ScriptRunContext! This warning can be ignored when running in bare mode.\n",
      "2024-11-18 17:41:40.012 Thread 'MainThread': missing ScriptRunContext! This warning can be ignored when running in bare mode.\n",
      "2024-11-18 17:41:40.013 Thread 'MainThread': missing ScriptRunContext! This warning can be ignored when running in bare mode.\n"
     ]
    },
    {
     "data": {
      "text/plain": [
       "DeltaGenerator()"
      ]
     },
     "execution_count": 23,
     "metadata": {},
     "output_type": "execute_result"
    }
   ],
   "source": [
    "\n",
    "# Streamlit layout\n",
    "st.title(\"Company Gender Equality Dashboard\")\n",
    "\n",
    "st.subheader(\"1. Percentage of Men and Women\")\n",
    "st.plotly_chart(fig1, use_container_width=True)\n",
    "\n",
    "st.subheader(\"2. Normalized Absences\")\n",
    "st.plotly_chart(fig2, use_container_width=True)"
   ]
  },
  {
   "cell_type": "code",
   "execution_count": null,
   "metadata": {},
   "outputs": [],
   "source": [
    "pio.renderers.default = 'browser'  # Force rendering in browser\n",
    "\n",
    "fig.show()"
   ]
  },
  {
   "cell_type": "code",
   "execution_count": null,
   "metadata": {},
   "outputs": [],
   "source": []
  },
  {
   "cell_type": "markdown",
   "metadata": {},
   "source": []
  },
  {
   "cell_type": "markdown",
   "metadata": {},
   "source": []
  },
  {
   "cell_type": "markdown",
   "metadata": {},
   "source": []
  },
  {
   "cell_type": "markdown",
   "metadata": {},
   "source": []
  },
  {
   "cell_type": "markdown",
   "metadata": {},
   "source": []
  },
  {
   "cell_type": "markdown",
   "metadata": {},
   "source": []
  },
  {
   "cell_type": "markdown",
   "metadata": {},
   "source": []
  },
  {
   "cell_type": "markdown",
   "metadata": {},
   "source": [
    "doing scv"
   ]
  },
  {
   "cell_type": "code",
   "execution_count": 12,
   "metadata": {},
   "outputs": [
    {
     "name": "stdout",
     "output_type": "stream",
     "text": [
      "  Company  Year Age Range Contract Type   Category  Men  Women  \\\n",
      "0     EDF  2020     26-35           CDD     Cadres   78     22   \n",
      "1     EDF  2020     26-35           CDD   Maîtrise   68     32   \n",
      "2     EDF  2020     26-35           CDD  Exécution   54     46   \n",
      "3     EDF  2020     26-35           CDI     Cadres   82     18   \n",
      "4     EDF  2020     26-35           CDI   Maîtrise   47     53   \n",
      "\n",
      "   Men Work Hours  Women Work Hours  Men Absences (Hours)  \\\n",
      "0          1404.0             396.0            149.078149   \n",
      "1          1224.0             576.0            235.751147   \n",
      "2           972.0             828.0            155.324717   \n",
      "3          1476.0             324.0            206.342988   \n",
      "4           846.0             954.0             62.098765   \n",
      "\n",
      "   Women Absences (Hours)  Men Absence per Person  Women Absence per Person  \\\n",
      "0               76.518998              191.125832                347.813626   \n",
      "1               92.554294              346.692863                289.232168   \n",
      "2              110.250773              287.638364                239.675594   \n",
      "3               45.929628              251.637791                255.164601   \n",
      "4              107.744769              132.125033                203.292017   \n",
      "\n",
      "   Normalized Men Absence  Normalized Women Absence  \n",
      "0                0.715827                  0.661128  \n",
      "1                1.132004                  0.799674  \n",
      "2                0.745821                  0.952573  \n",
      "3                0.990795                  0.396835  \n",
      "4                0.298179                  0.930921  \n"
     ]
    }
   ],
   "source": [
    "\n",
    "# Load the existing CSV file\n",
    "file_path = \"../../data/Random_Data_for_Dashboard.csv\"  \n",
    "df = pd.read_csv(file_path)\n",
    "\n",
    "# Assume an average of 1800 work hours per year per person\n",
    "average_hours_per_year = 1800\n",
    "\n",
    "# Calculate total work hours per gender per category\n",
    "df['Men Work Hours'] = (df['Men'] / 100) * average_hours_per_year\n",
    "df['Women Work Hours'] = (df['Women'] / 100) * average_hours_per_year\n",
    "\n",
    "# Calculate absences in hours for men and women\n",
    "np.random.seed(42)  # For reproducibility\n",
    "df['Men Absences (Hours)'] = df['Men Work Hours'] * (np.random.uniform(5, 20, size=len(df)) / 100)\n",
    "df['Women Absences (Hours)'] = df['Women Work Hours'] * (np.random.uniform(5, 20, size=len(df)) / 100)\n",
    "\n",
    "# Calculate absences per person\n",
    "df['Men Absence per Person'] = df['Men Absences (Hours)'] / (df['Men'] / 100)\n",
    "df['Women Absence per Person'] = df['Women Absences (Hours)'] / (df['Women'] / 100)\n",
    "\n",
    "# Normalize absences by scaling to population size\n",
    "df['Normalized Men Absence'] = df['Men Absence per Person'] * (df['Men'] / df['Men'].sum())\n",
    "df['Normalized Women Absence'] = df['Women Absence per Person'] * (df['Women'] / df['Women'].sum())\n",
    "\n",
    "# Save the updated CSV with normalized absences\n",
    "updated_file_path = \"random_data_with_normalized_absences.csv\"\n",
    "df.to_csv(updated_file_path, index=False)\n",
    "\n",
    "# Display the dataframe\n",
    "print(df.head())"
   ]
  }
 ],
 "metadata": {
  "kernelspec": {
   "display_name": ".venv",
   "language": "python",
   "name": "python3"
  },
  "language_info": {
   "codemirror_mode": {
    "name": "ipython",
    "version": 3
   },
   "file_extension": ".py",
   "mimetype": "text/x-python",
   "name": "python",
   "nbconvert_exporter": "python",
   "pygments_lexer": "ipython3",
   "version": "3.12.3"
  }
 },
 "nbformat": 4,
 "nbformat_minor": 2
}
