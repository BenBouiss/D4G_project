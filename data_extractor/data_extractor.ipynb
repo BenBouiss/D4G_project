{
 "cells": [
  {
   "cell_type": "code",
   "execution_count": 6,
   "metadata": {},
   "outputs": [],
   "source": [
    "pdf_filepath = \"../data/bilan-social.pdf\""
   ]
  },
  {
   "cell_type": "code",
   "execution_count": 7,
   "metadata": {},
   "outputs": [
    {
     "name": "stdout",
     "output_type": "stream",
     "text": [
      "Error while parsing the file '../data/bilan-social.pdf': Failed to parse the file: {\"detail\":\"You've exceeded the maximum number of pages you can parse in a day (1000). Please contact support to increase your limit.\"}\n"
     ]
    },
    {
     "ename": "IndexError",
     "evalue": "list index out of range",
     "output_type": "error",
     "traceback": [
      "\u001b[0;31m---------------------------------------------------------------------------\u001b[0m",
      "\u001b[0;31mIndexError\u001b[0m                                Traceback (most recent call last)",
      "Cell \u001b[0;32mIn[7], line 27\u001b[0m\n\u001b[1;32m     24\u001b[0m json_objs \u001b[38;5;241m=\u001b[39m LlamaParse()\u001b[38;5;241m.\u001b[39mget_json_result(pdf_filepath)\n\u001b[1;32m     26\u001b[0m tables \u001b[38;5;241m=\u001b[39m []\n\u001b[0;32m---> 27\u001b[0m \u001b[38;5;28;01mfor\u001b[39;00m page \u001b[38;5;129;01min\u001b[39;00m \u001b[43mjson_objs\u001b[49m\u001b[43m[\u001b[49m\u001b[38;5;241;43m0\u001b[39;49m\u001b[43m]\u001b[49m[\u001b[38;5;124m\"\u001b[39m\u001b[38;5;124mpages\u001b[39m\u001b[38;5;124m\"\u001b[39m]:\n\u001b[1;32m     28\u001b[0m     \u001b[38;5;28;01mfor\u001b[39;00m item \u001b[38;5;129;01min\u001b[39;00m page[\u001b[38;5;124m\"\u001b[39m\u001b[38;5;124mitems\u001b[39m\u001b[38;5;124m\"\u001b[39m]:\n\u001b[1;32m     29\u001b[0m         \u001b[38;5;28;01mif\u001b[39;00m item[\u001b[38;5;124m\"\u001b[39m\u001b[38;5;124mtype\u001b[39m\u001b[38;5;124m\"\u001b[39m] \u001b[38;5;241m==\u001b[39m \u001b[38;5;124m\"\u001b[39m\u001b[38;5;124mtable\u001b[39m\u001b[38;5;124m\"\u001b[39m:\n\u001b[1;32m     30\u001b[0m             \u001b[38;5;66;03m# If the number of columns in the header row is greater than the data rows\u001b[39;00m\n",
      "\u001b[0;31mIndexError\u001b[0m: list index out of range"
     ]
    }
   ],
   "source": [
    "import os\n",
    "from dotenv import load_dotenv\n",
    "\n",
    "import logging\n",
    "import uuid\n",
    "\n",
    "# External imports\n",
    "import nest_asyncio\n",
    "import pandas as pd\n",
    "from llama_parse import LlamaParse\n",
    "\n",
    "nest_asyncio.apply() \n",
    "\n",
    "# Load environment variables from .env\n",
    "load_dotenv()\n",
    "# Get the API key\n",
    "api_key = os.getenv(\"LLAMA_CLOUD_API_KEY\")\n",
    "\n",
    "if not api_key:\n",
    "    raise ValueError(\"API_KEY not found in environment variables.\")\n",
    "\n",
    "# Standard imports\n",
    "\n",
    "json_objs = LlamaParse().get_json_result(pdf_filepath)\n",
    "\n",
    "tables = []\n",
    "for page in json_objs[0][\"pages\"]:\n",
    "    for item in page[\"items\"]:\n",
    "        if item[\"type\"] == \"table\":\n",
    "            # If the number of columns in the header row is greater than the data rows\n",
    "            header_length = len(item[\"rows\"][0])\n",
    "\n",
    "            for i in range(1, len(item[\"rows\"])):\n",
    "                while len(item[\"rows\"][i]) < header_length:\n",
    "                    item[\"rows\"][i].append(\"No Extract \")\n",
    "                while len(item[\"rows\"][i]) > header_length:\n",
    "                    item[\"rows\"][0].append(\"No Extract \")\n",
    "                    header_length = len(item[\"rows\"][0])\n",
    "\n",
    "            df = pd.DataFrame(item[\"rows\"][1:], columns=item[\"rows\"][0])\n",
    "            tables.append(df)\n",
    "for i, table in enumerate(tables):\n",
    "    table.to_csv(f\"table_{i}.csv\")"
   ]
  },
  {
   "cell_type": "code",
   "execution_count": null,
   "metadata": {},
   "outputs": [],
   "source": []
  },
  {
   "cell_type": "code",
   "execution_count": null,
   "metadata": {},
   "outputs": [],
   "source": []
  }
 ],
 "metadata": {
  "kernelspec": {
   "display_name": ".venv",
   "language": "python",
   "name": "python3"
  },
  "language_info": {
   "codemirror_mode": {
    "name": "ipython",
    "version": 3
   },
   "file_extension": ".py",
   "mimetype": "text/x-python",
   "name": "python",
   "nbconvert_exporter": "python",
   "pygments_lexer": "ipython3",
   "version": "3.12.2"
  }
 },
 "nbformat": 4,
 "nbformat_minor": 2
}
